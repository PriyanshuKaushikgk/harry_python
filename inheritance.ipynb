{
  "nbformat": 4,
  "nbformat_minor": 0,
  "metadata": {
    "colab": {
      "provenance": [],
      "authorship_tag": "ABX9TyOPLFeTOOgtzyLfSOcO+AYS",
      "include_colab_link": true
    },
    "kernelspec": {
      "name": "python3",
      "display_name": "Python 3"
    },
    "language_info": {
      "name": "python"
    }
  },
  "cells": [
    {
      "cell_type": "markdown",
      "metadata": {
        "id": "view-in-github",
        "colab_type": "text"
      },
      "source": [
        "<a href=\"https://colab.research.google.com/github/PriyanshuKaushikgk/harry_python/blob/main/inheritance.ipynb\" target=\"_parent\"><img src=\"https://colab.research.google.com/assets/colab-badge.svg\" alt=\"Open In Colab\"/></a>"
      ]
    },
    {
      "cell_type": "code",
      "execution_count": 6,
      "metadata": {
        "colab": {
          "base_uri": "https://localhost:8080/"
        },
        "id": "oYviwZrY-RnT",
        "outputId": "d527da5e-49f3-4235-db66-0631028554fb"
      },
      "outputs": [
        {
          "output_type": "stream",
          "name": "stdout",
          "text": [
            "white 3\n",
            "5 Yellow\n"
          ]
        }
      ],
      "source": [
        "class House:\n",
        "  def __init__(self,color,room):\n",
        "    self.color = color\n",
        "    self.room = room\n",
        "\n",
        "h1 = House(\"white\",3)\n",
        "print(h1.color,h1.room)\n",
        "\n",
        "h2 = House(\"Yellow\",5)\n",
        "print(h2.room,h2.color)"
      ]
    },
    {
      "cell_type": "code",
      "source": [
        "# bar bar print na krne k liye function bante hai....\n",
        "class House:\n",
        "  def __init__(self,color,room):\n",
        "    self.color = color\n",
        "    self.room = room\n",
        "\n",
        "  def info(self):\n",
        "    print(\"House characteristic:\",self.color,self.room)\n",
        "\n",
        "h1 = House(\"white\",3)\n",
        "h1.info()\n",
        "\n",
        "h2 = House(\"Yellow\",5)\n",
        "h2.info()"
      ],
      "metadata": {
        "colab": {
          "base_uri": "https://localhost:8080/"
        },
        "id": "_r4my7nRKaAo",
        "outputId": "8cf15e5a-c793-4b87-f59b-a20422d96ad6"
      },
      "execution_count": 7,
      "outputs": [
        {
          "output_type": "stream",
          "name": "stdout",
          "text": [
            "House characteristic: white 3\n",
            "House characteristic: Yellow 5\n"
          ]
        }
      ]
    },
    {
      "cell_type": "code",
      "source": [
        "# INHERITANCE --->> CHILD ACQUIRE PARENTS PROPERTIES\n",
        "\n",
        "class father:\n",
        "  amount = 5000\n",
        "\n",
        "class son(father):\n",
        "  salary = 100\n",
        "\n",
        "s = son()\n",
        "s.amount\n"
      ],
      "metadata": {
        "colab": {
          "base_uri": "https://localhost:8080/"
        },
        "id": "P69D5zyfLb07",
        "outputId": "2431457e-96a3-416a-fb05-1600a10d0df1"
      },
      "execution_count": 10,
      "outputs": [
        {
          "output_type": "execute_result",
          "data": {
            "text/plain": [
              "5000"
            ]
          },
          "metadata": {},
          "execution_count": 10
        }
      ]
    },
    {
      "cell_type": "code",
      "source": [
        "class ZomatoDriver():\n",
        "  def __init__(self,uid,name,email):\n",
        "    self.name = name\n",
        "    self.uid  = id\n",
        "    self.email = email\n",
        "\n",
        "zd1 = ZomatoDriver(10,\"jacky\",\"hello@gmail.com\")\n",
        "zd1.name"
      ],
      "metadata": {
        "colab": {
          "base_uri": "https://localhost:8080/",
          "height": 36
        },
        "id": "dYxBuTKmL3pJ",
        "outputId": "3e37059c-5112-4e60-b4fc-233b6fb99f30"
      },
      "execution_count": 11,
      "outputs": [
        {
          "output_type": "execute_result",
          "data": {
            "text/plain": [
              "'jacky'"
            ],
            "application/vnd.google.colaboratory.intrinsic+json": {
              "type": "string"
            }
          },
          "metadata": {},
          "execution_count": 11
        }
      ]
    },
    {
      "cell_type": "code",
      "source": [
        "class ZomatoDriver():\n",
        "  def __init__(self,uid,name,email):\n",
        "    self.name = name\n",
        "    self.uid  = id\n",
        "    self.email = email\n",
        "\n",
        "zd1 = ZomatoDriver(10,\"jacky\",\"hello@gmail.com\")\n",
        "zd1.name\n",
        "\n",
        "class ZomatoCustomer(ZomatoDriver):\n",
        "\n",
        "  def __init__(self,cid,cname,cemail):\n",
        "    super().__init__(cid,cname,cemail)\n",
        "\n",
        "zc1 = ZomatoCustomer(88,\"naina\",\"naina@gmail.com\")\n",
        "zc1.name"
      ],
      "metadata": {
        "colab": {
          "base_uri": "https://localhost:8080/",
          "height": 36
        },
        "id": "zGqq5pmLMn4a",
        "outputId": "f0ef5168-1c13-4ae9-d660-52d0e0867762"
      },
      "execution_count": 12,
      "outputs": [
        {
          "output_type": "execute_result",
          "data": {
            "text/plain": [
              "'naina'"
            ],
            "application/vnd.google.colaboratory.intrinsic+json": {
              "type": "string"
            }
          },
          "metadata": {},
          "execution_count": 12
        }
      ]
    },
    {
      "cell_type": "code",
      "source": [
        "class ZomatoDriver():\n",
        "  def __init__(self,uid,name,email):\n",
        "    self.name = name\n",
        "    self.uid  = id\n",
        "    self.email = email\n",
        "\n",
        "  def info(self):\n",
        "    print = (\"Properties:\",self.name,self.uid,self.email)\n",
        "\n",
        "zd1 = ZomatoDriver(10,\"jacky\",\"hello@gmail.com\")\n",
        "zd1.name\n",
        "\n",
        "class ZomatoCustomer(ZomatoDriver):\n",
        "\n",
        "  def __init__(self,cid,cname,cemail):\n",
        "    super().__init__(cid,cname,cemail)\n",
        "    super().info()\n",
        "\n",
        "zc1 = ZomatoCustomer(88,\"naina\",\"naina@gmail.com\")\n",
        "zc1.name"
      ],
      "metadata": {
        "colab": {
          "base_uri": "https://localhost:8080/",
          "height": 36
        },
        "id": "oWD9U_o-NRgo",
        "outputId": "dd66b1f6-6801-432c-864b-4065ebf53de8"
      },
      "execution_count": 18,
      "outputs": [
        {
          "output_type": "execute_result",
          "data": {
            "text/plain": [
              "'naina'"
            ],
            "application/vnd.google.colaboratory.intrinsic+json": {
              "type": "string"
            }
          },
          "metadata": {},
          "execution_count": 18
        }
      ]
    },
    {
      "cell_type": "code",
      "source": [],
      "metadata": {
        "id": "kYxYqQMrNzFw"
      },
      "execution_count": null,
      "outputs": []
    }
  ]
}